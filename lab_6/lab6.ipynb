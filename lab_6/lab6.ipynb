{
 "cells": [
  {
   "cell_type": "code",
   "execution_count": 1,
   "id": "794a8d2d-a8ac-46a8-b359-09122a33964b",
   "metadata": {},
   "outputs": [],
   "source": [
    "from time import time\n",
    "import numpy as np\n",
    "import pandas as pd\n",
    "import re\n",
    "import nltk\n",
    "from gensim.models import Word2Vec\n",
    "from sklearn.neural_network import MLPClassifier\n",
    "from sklearn.model_selection import train_test_split"
   ]
  },
  {
   "cell_type": "code",
   "execution_count": 2,
   "id": "65f9a5fb-9d50-421f-a2d3-d1c06700d92b",
   "metadata": {},
   "outputs": [],
   "source": [
    "def load_data(filepath):\n",
    "    \"\"\" Загружаем данные из CSV-файла в pandas DataFrame \"\"\"\n",
    "    df = pd.read_csv(filepath, delimiter=',', header=0, names=['sentence', 'label'])\n",
    "    X = df['sentence']  # Извлекаем столбец с предложениями\n",
    "    y = df['label']  # Извлекаем столбец с метками классов\n",
    "\n",
    "    # Выводим информацию о данных\n",
    "    print(f\"Total sentences: {df.shape[0]}\")\n",
    "    print(f\"Toxic: {df[df['label'] > 0]['label'].count()}\")\n",
    "    print(f\"Not toxic: {df[df['label'] <= 0]['label'].count()}\")\n",
    "    return X, y"
   ]
  },
  {
   "cell_type": "code",
   "execution_count": 3,
   "id": "8609aa5b-4a3b-4200-bba7-20c9be1aff02",
   "metadata": {},
   "outputs": [],
   "source": [
    "# Проверяем, есть ли отступы здесь\n",
    "def preprocess_text(raw_text):\n",
    "    \"\"\" Предварительная обработка текста \"\"\"\n",
    "    text = re.sub(\"[^0-9а-яА-Я]\", \" \", raw_text).lower()\n",
    "    words = text.split()\n",
    "    return words"
   ]
  },
  {
   "cell_type": "code",
   "execution_count": 4,
   "id": "5d4a711f-7f84-4138-b3db-5279d45c2c17",
   "metadata": {},
   "outputs": [],
   "source": [
    "# Эмбеддинги слов\n",
    "\n",
    "def build_word2vec_model(sentences, num_features=300, min_word_count=40, context=20, downsampling=1e-3):\n",
    "    # Обучаем модель Word2Vec на предложениях для получения эмбеддингов слов\n",
    "    model = Word2Vec(sentences, vector_size=num_features, min_count=min_word_count, window=context, sample=downsampling)   # Инициализируем модель Word2Vec\n",
    "    model.wv.init_sims(replace=True)  # Оптимизация модели для более быстрой работы\n",
    "    return model\n"
   ]
  },
  {
   "cell_type": "code",
   "execution_count": 5,
   "id": "5ab109e7-2903-4823-acfe-5114093b4757",
   "metadata": {},
   "outputs": [],
   "source": [
    "# Векторизация предложений"
   ]
  },
  {
   "cell_type": "code",
   "execution_count": 6,
   "id": "d2f51b3d-0494-4f13-a7a3-bec0aa7ced3b",
   "metadata": {},
   "outputs": [],
   "source": [
    "def make_feature_vec(words, model, num_features):\n",
    "    # Создаем вектор признаков для предложения путем усреднения эмбеддингов слов\n",
    "    feature_vec = np.zeros((num_features,), dtype=\"float32\")  # Инициализируем пустой вектор признаков\n",
    "    nwords = sum(1 for word in words if word in model.wv.index_to_key)  # Количество слов, у которых есть эмбеддинг\n",
    "\n",
    "    if nwords == 0:\n",
    "        return feature_vec\n",
    "\n",
    "    for word in words:\n",
    "        if word in model.wv.index_to_key:\n",
    "            # Добавляем эмбеддинг слова к вектору признаков\n",
    "            feature_vec = np.add(feature_vec, model.wv[word])\n",
    "\n",
    "    # Усредняем вектор признаков по количеству слов с эмбеддингом\n",
    "    feature_vec = np.divide(feature_vec, nwords)\n",
    "    return feature_vec"
   ]
  },
  {
   "cell_type": "code",
   "execution_count": 7,
   "id": "f485a67b-49b1-45b8-9a1d-90a38efed1dc",
   "metadata": {},
   "outputs": [],
   "source": [
    "def get_avg_feature_vecs(sentences, model, num_features):\n",
    "    # Создаем матрицу векторов признаков для всех предложений\n",
    "    review_feature_vecs = np.zeros((len(sentences), num_features), dtype=\"float32\")  # Инициализируем пустую матрицу векторов признаков\n",
    "\n",
    "    for idx, sentence in enumerate(sentences):\n",
    "        # Создаем вектор признаков для каждого предложения\n",
    "        review_feature_vecs[idx] = make_feature_vec(sentence, model, num_features)\n",
    "\n",
    "    return review_feature_vecs"
   ]
  },
  {
   "cell_type": "code",
   "execution_count": 8,
   "id": "5ff8efbb-a0ab-4664-bd9e-08a7b7916c29",
   "metadata": {},
   "outputs": [],
   "source": [
    "# Модель классификатора"
   ]
  },
  {
   "cell_type": "code",
   "execution_count": 9,
   "id": "83d32374-8ef6-40cd-a1f7-1137d481c547",
   "metadata": {},
   "outputs": [],
   "source": [
    "def train_classifier(X_train, y_train, batch_size=200, total_epochs=10, layers=(300,40,30)):\n",
    "    # Обучаем классификатор на векторах признаков предложений\n",
    "    clf = MLPClassifier(solver='adam', hidden_layer_sizes=layers, random_state=1)\n",
    "    start_time = time()\n",
    "\n",
    "    for epoch in range(total_epochs):\n",
    "        for i in range(0, len(X_train), batch_size):\n",
    "            # Обучаем классификатор по батчам данных\n",
    "            X_batch = X_train[i:i+batch_size]\n",
    "            y_batch = y_train[i:i+batch_size]\n",
    "            clf.partial_fit(X_batch, y_batch, classes=np.unique(y_train))\n",
    "\n",
    "        if time() - start_time > total_epochs * 60:  # Ограничение времени выполнения в минутах\n",
    "            break\n",
    "\n",
    "    return clf"
   ]
  },
  {
   "cell_type": "code",
   "execution_count": 10,
   "id": "1a27d246-148b-43d3-987d-f2c951302479",
   "metadata": {},
   "outputs": [
    {
     "name": "stdout",
     "output_type": "stream",
     "text": [
      "Total sentences: 14412\n",
      "Toxic: 4826\n",
      "Not toxic: 9586\n"
     ]
    },
    {
     "name": "stderr",
     "output_type": "stream",
     "text": [
      "/tmp/ipykernel_11141/817837877.py:6: DeprecationWarning: Call to deprecated `init_sims` (Use fill_norms() instead. See https://github.com/RaRe-Technologies/gensim/wiki/Migrating-from-Gensim-3.x-to-4).\n",
      "  model.wv.init_sims(replace=True)  # Оптимизация модели для более быстрой работы\n"
     ]
    },
    {
     "name": "stdout",
     "output_type": "stream",
     "text": [
      "Accuracy: 75.12%\n"
     ]
    }
   ],
   "source": [
    "# Основной код\n",
    "if __name__ == \"__main__\":\n",
    "    # Загружаем данные\n",
    "    X, y = load_data(\"./data/labeled_rutoxic.csv\")\n",
    "\n",
    "    # Предобработка и разбиение данных\n",
    "    X_train, X_test, y_train, y_test = train_test_split(X, y, test_size=0.3)\n",
    "    sentences_train = X_train.apply(preprocess_text)\n",
    "    sentences_test = X_test.apply(preprocess_text)\n",
    "\n",
    "# Построение модели Word2Vec\n",
    "word2vec_model = build_word2vec_model(sentences_train)\n",
    "\n",
    "# Векторизация предложений\n",
    "train_vectors = get_avg_feature_vecs(sentences_train, word2vec_model, 300)\n",
    "test_vectors = get_avg_feature_vecs(sentences_test, word2vec_model, 300)\n",
    "\n",
    "# Обучение классификатора\n",
    "clf = train_classifier(train_vectors, y_train.values)\n",
    "\n",
    "# Оценка классификатора\n",
    "predicted = clf.predict(test_vectors)\n",
    "accuracy = np.mean(predicted == y_test.values)\n",
    "print(f\"Accuracy: {accuracy:.2%}\")\n",
    "# Фильтрация и сохранение токсичных комментариев\n",
    "toxic_comments = X_test[predicted == 1]  # Меняем здесь на 1, если токсичность кодируется единицей\n",
    "toxic_df = pd.DataFrame(toxic_comments)\n",
    "toxic_df['label'] = 1  # предполагаем, что этикетка токсичных комментариев - это 1\n",
    "\n",
    "# Сохраняем токсичные комментарии в CSV-файл\n",
    "toxic_df.to_csv(\"toxic_comments.csv\", index=False)"
   ]
  },
  {
   "cell_type": "code",
   "execution_count": 11,
   "id": "4f8f56fb-b96e-425b-a0f2-f20c0348b246",
   "metadata": {},
   "outputs": [
    {
     "ename": "NameError",
     "evalue": "name 'y_pred' is not defined",
     "output_type": "error",
     "traceback": [
      "\u001b[0;31m---------------------------------------------------------------------------\u001b[0m",
      "\u001b[0;31mNameError\u001b[0m                                 Traceback (most recent call last)",
      "Cell \u001b[0;32mIn[11], line 2\u001b[0m\n\u001b[1;32m      1\u001b[0m \u001b[38;5;66;03m# Создаем DataFrame с результатами\u001b[39;00m\n\u001b[0;32m----> 2\u001b[0m results \u001b[38;5;241m=\u001b[39m pd\u001b[38;5;241m.\u001b[39mDataFrame({\u001b[38;5;124m\"\u001b[39m\u001b[38;5;124mActual\u001b[39m\u001b[38;5;124m\"\u001b[39m: y_test, \u001b[38;5;124m\"\u001b[39m\u001b[38;5;124mPredicted\u001b[39m\u001b[38;5;124m\"\u001b[39m: \u001b[43my_pred\u001b[49m})\n\u001b[1;32m      4\u001b[0m    \u001b[38;5;66;03m# Сохраняем результаты в CSV-файл\u001b[39;00m\n\u001b[1;32m      5\u001b[0m results\u001b[38;5;241m.\u001b[39mto_csv(\u001b[38;5;124m\"\u001b[39m\u001b[38;5;124mresults.csv\u001b[39m\u001b[38;5;124m\"\u001b[39m, index\u001b[38;5;241m=\u001b[39m\u001b[38;5;28;01mFalse\u001b[39;00m)\n",
      "\u001b[0;31mNameError\u001b[0m: name 'y_pred' is not defined"
     ]
    }
   ],
   "source": [
    " # Создаем DataFrame с результатами\n",
    "results = pd.DataFrame({\"Actual\": y_test, \"Predicted\": y_pred})\n",
    "\n",
    "    # Сохраняем результаты в CSV-файл\n",
    "results.to_csv(\"results.csv\", index=False)"
   ]
  }
 ],
 "metadata": {
  "kernelspec": {
   "display_name": "Python 3 (ipykernel)",
   "language": "python",
   "name": "python3"
  },
  "language_info": {
   "codemirror_mode": {
    "name": "ipython",
    "version": 3
   },
   "file_extension": ".py",
   "mimetype": "text/x-python",
   "name": "python",
   "nbconvert_exporter": "python",
   "pygments_lexer": "ipython3",
   "version": "3.8.10"
  }
 },
 "nbformat": 4,
 "nbformat_minor": 5
}
